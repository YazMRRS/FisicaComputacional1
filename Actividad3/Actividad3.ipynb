{
  "nbformat": 4,
  "nbformat_minor": 0,
  "metadata": {
    "colab": {
      "name": "Actividad3.ipynb",
      "provenance": [],
      "authorship_tag": "ABX9TyO4JqnZ26l/LGo53h2bKjDN",
      "include_colab_link": true
    },
    "kernelspec": {
      "name": "python3",
      "display_name": "Python 3"
    }
  },
  "cells": [
    {
      "cell_type": "markdown",
      "metadata": {
        "id": "view-in-github",
        "colab_type": "text"
      },
      "source": [
        "<a href=\"https://colab.research.google.com/github/YazMRRS/FisicaComputacional1/blob/master/Actividad3.ipynb\" target=\"_parent\"><img src=\"https://colab.research.google.com/assets/colab-badge.svg\" alt=\"Open In Colab\"/></a>"
      ]
    },
    {
      "cell_type": "markdown",
      "metadata": {
        "id": "xqAgukinkTqd"
      },
      "source": [
        "**Introducción a Pandas**"
      ]
    },
    {
      "cell_type": "code",
      "metadata": {
        "id": "GsSpHPWCk61k"
      },
      "source": [
        "#Importamos bibliotecas\r\n",
        "import pandas as pd\r\n",
        "import numpy as np\r\n",
        "\r\n",
        "\r\n",
        "#Definimos el DataFrame, tomando el archivo URL de Github\r\n",
        "url = 'https://raw.githubusercontent.com/YazMRRS/FisicaComputacional1/master/Actividad1/26086Diario.txt'\r\n",
        "my_cols = ['FECHA', 'PRECIP', 'EVAP', 'TMAX', 'TMIN']\r\n",
        "df_dist = pd.read_csv(url, names=my_cols, encoding='cp1251', sep='\\s+', header=None, skiprows=19, engine='python', skipfooter=1)\r\n"
      ],
      "execution_count": 8,
      "outputs": []
    },
    {
      "cell_type": "code",
      "metadata": {
        "colab": {
          "base_uri": "https://localhost:8080/"
        },
        "id": "B9X7d1ZRDh75",
        "outputId": "7b583cc1-8499-4cb3-fbb4-8ed5a26602a7"
      },
      "source": [
        "#Mediante estas funciones estudiamos la estructura de nuestro archivo y exploramos el DataFrame.\r\n",
        "\r\n",
        "#Imprimimos el encabezado y final del DataFrame\r\n",
        "print(df_dist.head(10))\r\n",
        "print(df_dist.tail(10))"
      ],
      "execution_count": 14,
      "outputs": [
        {
          "output_type": "stream",
          "text": [
            "        FECHA PRECIP  EVAP  TMAX  TMIN\n",
            "0  05/08/1924      0  Nulo    42    29\n",
            "1  06/08/1924      0  Nulo  42.3  24.8\n",
            "2  07/08/1924      0  Nulo    42  25.5\n",
            "3  08/08/1924      0  Nulo  38.3  26.5\n",
            "4  09/08/1924      0  Nulo  42.5  26.4\n",
            "5  10/08/1924      0  Nulo  41.5    28\n",
            "6  11/08/1924      0  Nulo  43.8  27.2\n",
            "7  12/08/1924      0  Nulo    45  24.4\n",
            "8  13/08/1924      0  Nulo  45.3  25.2\n",
            "9  14/08/1924      0  Nulo  44.2  24.3\n",
            "            FECHA PRECIP  EVAP  TMAX  TMIN\n",
            "19159  22/12/1987      0  Nulo    21     3\n",
            "19160  23/12/1987      0  Nulo  16.5     7\n",
            "19161  24/12/1987      0  Nulo  12.5     5\n",
            "19162  25/12/1987      0  Nulo   9.5    -1\n",
            "19163  26/12/1987      0  Nulo   9.5  -2.5\n",
            "19164  27/12/1987      0  Nulo    14  -2.5\n",
            "19165  28/12/1987      0  Nulo    16     1\n",
            "19166  29/12/1987      0  Nulo  17.5    -1\n",
            "19167  30/12/1987      0  Nulo  15.5     5\n",
            "19168  31/12/1987      0  Nulo    17     2\n"
          ],
          "name": "stdout"
        }
      ]
    },
    {
      "cell_type": "code",
      "metadata": {
        "colab": {
          "base_uri": "https://localhost:8080/"
        },
        "id": "CUTeEerqtZgG",
        "outputId": "4718cc0b-4c0e-407e-c011-aa6ad641c32e"
      },
      "source": [
        "#Calculamos las dimensiones de nuestro DataFrame\r\n",
        "df_dist.shape"
      ],
      "execution_count": 16,
      "outputs": [
        {
          "output_type": "execute_result",
          "data": {
            "text/plain": [
              "(19169, 5)"
            ]
          },
          "metadata": {
            "tags": []
          },
          "execution_count": 16
        }
      ]
    },
    {
      "cell_type": "code",
      "metadata": {
        "colab": {
          "base_uri": "https://localhost:8080/"
        },
        "id": "k6-acOIkuHX7",
        "outputId": "7b074534-b76f-43e3-ec13-f1ff07b058ee"
      },
      "source": [
        "#Ponemos como es el contenido de nuestro DataFrame\r\n",
        "df_dist.info()"
      ],
      "execution_count": 17,
      "outputs": [
        {
          "output_type": "stream",
          "text": [
            "<class 'pandas.core.frame.DataFrame'>\n",
            "RangeIndex: 19169 entries, 0 to 19168\n",
            "Data columns (total 5 columns):\n",
            " #   Column  Non-Null Count  Dtype \n",
            "---  ------  --------------  ----- \n",
            " 0   FECHA   19169 non-null  object\n",
            " 1   PRECIP  19169 non-null  object\n",
            " 2   EVAP    19169 non-null  object\n",
            " 3   TMAX    19169 non-null  object\n",
            " 4   TMIN    19169 non-null  object\n",
            "dtypes: object(5)\n",
            "memory usage: 748.9+ KB\n"
          ],
          "name": "stdout"
        }
      ]
    },
    {
      "cell_type": "code",
      "metadata": {
        "colab": {
          "base_uri": "https://localhost:8080/",
          "height": 204
        },
        "id": "bNhEnAnKufV-",
        "outputId": "58fbf084-0c52-433b-eafd-f1fbb4a87bf3"
      },
      "source": [
        "#Reemplazamos la palabra nulo\r\n",
        "df_work0 = df_dist.copy()\r\n",
        "df_work0.head()"
      ],
      "execution_count": 20,
      "outputs": [
        {
          "output_type": "execute_result",
          "data": {
            "text/html": [
              "<div>\n",
              "<style scoped>\n",
              "    .dataframe tbody tr th:only-of-type {\n",
              "        vertical-align: middle;\n",
              "    }\n",
              "\n",
              "    .dataframe tbody tr th {\n",
              "        vertical-align: top;\n",
              "    }\n",
              "\n",
              "    .dataframe thead th {\n",
              "        text-align: right;\n",
              "    }\n",
              "</style>\n",
              "<table border=\"1\" class=\"dataframe\">\n",
              "  <thead>\n",
              "    <tr style=\"text-align: right;\">\n",
              "      <th></th>\n",
              "      <th>FECHA</th>\n",
              "      <th>PRECIP</th>\n",
              "      <th>EVAP</th>\n",
              "      <th>TMAX</th>\n",
              "      <th>TMIN</th>\n",
              "    </tr>\n",
              "  </thead>\n",
              "  <tbody>\n",
              "    <tr>\n",
              "      <th>0</th>\n",
              "      <td>05/08/1924</td>\n",
              "      <td>0</td>\n",
              "      <td>Nulo</td>\n",
              "      <td>42</td>\n",
              "      <td>29</td>\n",
              "    </tr>\n",
              "    <tr>\n",
              "      <th>1</th>\n",
              "      <td>06/08/1924</td>\n",
              "      <td>0</td>\n",
              "      <td>Nulo</td>\n",
              "      <td>42.3</td>\n",
              "      <td>24.8</td>\n",
              "    </tr>\n",
              "    <tr>\n",
              "      <th>2</th>\n",
              "      <td>07/08/1924</td>\n",
              "      <td>0</td>\n",
              "      <td>Nulo</td>\n",
              "      <td>42</td>\n",
              "      <td>25.5</td>\n",
              "    </tr>\n",
              "    <tr>\n",
              "      <th>3</th>\n",
              "      <td>08/08/1924</td>\n",
              "      <td>0</td>\n",
              "      <td>Nulo</td>\n",
              "      <td>38.3</td>\n",
              "      <td>26.5</td>\n",
              "    </tr>\n",
              "    <tr>\n",
              "      <th>4</th>\n",
              "      <td>09/08/1924</td>\n",
              "      <td>0</td>\n",
              "      <td>Nulo</td>\n",
              "      <td>42.5</td>\n",
              "      <td>26.4</td>\n",
              "    </tr>\n",
              "  </tbody>\n",
              "</table>\n",
              "</div>"
            ],
            "text/plain": [
              "        FECHA PRECIP  EVAP  TMAX  TMIN\n",
              "0  05/08/1924      0  Nulo    42    29\n",
              "1  06/08/1924      0  Nulo  42.3  24.8\n",
              "2  07/08/1924      0  Nulo    42  25.5\n",
              "3  08/08/1924      0  Nulo  38.3  26.5\n",
              "4  09/08/1924      0  Nulo  42.5  26.4"
            ]
          },
          "metadata": {
            "tags": []
          },
          "execution_count": 20
        }
      ]
    },
    {
      "cell_type": "code",
      "metadata": {
        "colab": {
          "base_uri": "https://localhost:8080/",
          "height": 204
        },
        "id": "NEBXt80Zu1WK",
        "outputId": "dd1f11b3-4ea5-4aa2-8822-d35b4358622f"
      },
      "source": [
        "str_Nulo = 'Nulo'\r\n",
        "df_work1 = df_work0.replace(to_replace=str_Nulo, value='', regex=True)\r\n",
        "df_work1.head()"
      ],
      "execution_count": 21,
      "outputs": [
        {
          "output_type": "execute_result",
          "data": {
            "text/html": [
              "<div>\n",
              "<style scoped>\n",
              "    .dataframe tbody tr th:only-of-type {\n",
              "        vertical-align: middle;\n",
              "    }\n",
              "\n",
              "    .dataframe tbody tr th {\n",
              "        vertical-align: top;\n",
              "    }\n",
              "\n",
              "    .dataframe thead th {\n",
              "        text-align: right;\n",
              "    }\n",
              "</style>\n",
              "<table border=\"1\" class=\"dataframe\">\n",
              "  <thead>\n",
              "    <tr style=\"text-align: right;\">\n",
              "      <th></th>\n",
              "      <th>FECHA</th>\n",
              "      <th>PRECIP</th>\n",
              "      <th>EVAP</th>\n",
              "      <th>TMAX</th>\n",
              "      <th>TMIN</th>\n",
              "    </tr>\n",
              "  </thead>\n",
              "  <tbody>\n",
              "    <tr>\n",
              "      <th>0</th>\n",
              "      <td>05/08/1924</td>\n",
              "      <td>0</td>\n",
              "      <td></td>\n",
              "      <td>42</td>\n",
              "      <td>29</td>\n",
              "    </tr>\n",
              "    <tr>\n",
              "      <th>1</th>\n",
              "      <td>06/08/1924</td>\n",
              "      <td>0</td>\n",
              "      <td></td>\n",
              "      <td>42.3</td>\n",
              "      <td>24.8</td>\n",
              "    </tr>\n",
              "    <tr>\n",
              "      <th>2</th>\n",
              "      <td>07/08/1924</td>\n",
              "      <td>0</td>\n",
              "      <td></td>\n",
              "      <td>42</td>\n",
              "      <td>25.5</td>\n",
              "    </tr>\n",
              "    <tr>\n",
              "      <th>3</th>\n",
              "      <td>08/08/1924</td>\n",
              "      <td>0</td>\n",
              "      <td></td>\n",
              "      <td>38.3</td>\n",
              "      <td>26.5</td>\n",
              "    </tr>\n",
              "    <tr>\n",
              "      <th>4</th>\n",
              "      <td>09/08/1924</td>\n",
              "      <td>0</td>\n",
              "      <td></td>\n",
              "      <td>42.5</td>\n",
              "      <td>26.4</td>\n",
              "    </tr>\n",
              "  </tbody>\n",
              "</table>\n",
              "</div>"
            ],
            "text/plain": [
              "        FECHA PRECIP EVAP  TMAX  TMIN\n",
              "0  05/08/1924      0         42    29\n",
              "1  06/08/1924      0       42.3  24.8\n",
              "2  07/08/1924      0         42  25.5\n",
              "3  08/08/1924      0       38.3  26.5\n",
              "4  09/08/1924      0       42.5  26.4"
            ]
          },
          "metadata": {
            "tags": []
          },
          "execution_count": 21
        }
      ]
    },
    {
      "cell_type": "code",
      "metadata": {
        "id": "x_5YWVK7wgWl"
      },
      "source": [
        "#Convertimos a número flotante o númerico los datos de precipitación, evaporación, temperatura máxima, temperatura mínima.\r\n",
        "cols_list = ['PRECIP', 'EVAP', 'TMAX', 'TMIN']\r\n",
        "for cols in cols_list:\r\n",
        "  df_work1[cols] = pd.to_numeric(df_work1[cols], errors='coerce')"
      ],
      "execution_count": 25,
      "outputs": []
    },
    {
      "cell_type": "code",
      "metadata": {
        "colab": {
          "base_uri": "https://localhost:8080/"
        },
        "id": "OCkJri5nyj0e",
        "outputId": "987cc393-d1a2-4938-8ef6-2a7d24949d86"
      },
      "source": [
        "#Contrastamos la información de nuestro DataFrame\r\n",
        "df_work1.info()"
      ],
      "execution_count": 26,
      "outputs": [
        {
          "output_type": "stream",
          "text": [
            "<class 'pandas.core.frame.DataFrame'>\n",
            "RangeIndex: 19169 entries, 0 to 19168\n",
            "Data columns (total 5 columns):\n",
            " #   Column  Non-Null Count  Dtype  \n",
            "---  ------  --------------  -----  \n",
            " 0   FECHA   19169 non-null  object \n",
            " 1   PRECIP  19155 non-null  float64\n",
            " 2   EVAP    4123 non-null   float64\n",
            " 3   TMAX    19062 non-null  float64\n",
            " 4   TMIN    19067 non-null  float64\n",
            "dtypes: float64(4), object(1)\n",
            "memory usage: 748.9+ KB\n"
          ],
          "name": "stdout"
        }
      ]
    },
    {
      "cell_type": "code",
      "metadata": {
        "colab": {
          "base_uri": "https://localhost:8080/"
        },
        "id": "Is4RXJQ5zDCN",
        "outputId": "5765597f-e358-4140-fbcc-dbe6f05cfa72"
      },
      "source": [
        "#Contabilizamos el número de datos faltantes en esas variables\r\n",
        "df_work1.isnull().sum()"
      ],
      "execution_count": 27,
      "outputs": [
        {
          "output_type": "execute_result",
          "data": {
            "text/plain": [
              "FECHA         0\n",
              "PRECIP       14\n",
              "EVAP      15046\n",
              "TMAX        107\n",
              "TMIN        102\n",
              "dtype: int64"
            ]
          },
          "metadata": {
            "tags": []
          },
          "execution_count": 27
        }
      ]
    },
    {
      "cell_type": "code",
      "metadata": {
        "colab": {
          "base_uri": "https://localhost:8080/"
        },
        "id": "dRaXJxKVzRRe",
        "outputId": "2a7a1d71-e136-4c49-fbbd-92eb013c52ad"
      },
      "source": [
        "#Imprimimos el nuevo encabezado y final de nuestro dataframe\r\n",
        "print(df_work1.head())\r\n",
        "print(df_work1.tail())"
      ],
      "execution_count": 28,
      "outputs": [
        {
          "output_type": "stream",
          "text": [
            "        FECHA  PRECIP  EVAP  TMAX  TMIN\n",
            "0  05/08/1924     0.0   NaN  42.0  29.0\n",
            "1  06/08/1924     0.0   NaN  42.3  24.8\n",
            "2  07/08/1924     0.0   NaN  42.0  25.5\n",
            "3  08/08/1924     0.0   NaN  38.3  26.5\n",
            "4  09/08/1924     0.0   NaN  42.5  26.4\n",
            "            FECHA  PRECIP  EVAP  TMAX  TMIN\n",
            "19164  27/12/1987     0.0   NaN  14.0  -2.5\n",
            "19165  28/12/1987     0.0   NaN  16.0   1.0\n",
            "19166  29/12/1987     0.0   NaN  17.5  -1.0\n",
            "19167  30/12/1987     0.0   NaN  15.5   5.0\n",
            "19168  31/12/1987     0.0   NaN  17.0   2.0\n"
          ],
          "name": "stdout"
        }
      ]
    },
    {
      "cell_type": "code",
      "metadata": {
        "colab": {
          "base_uri": "https://localhost:8080/",
          "height": 297
        },
        "id": "zJq3zAU6zoIG",
        "outputId": "f9f4c6ba-87db-48c6-d088-8a414de4f908"
      },
      "source": [
        "#Realizamos una estadística básica de las variables numéricas de nuestro DataFrame\r\n",
        "df_work1.describe()"
      ],
      "execution_count": 29,
      "outputs": [
        {
          "output_type": "execute_result",
          "data": {
            "text/html": [
              "<div>\n",
              "<style scoped>\n",
              "    .dataframe tbody tr th:only-of-type {\n",
              "        vertical-align: middle;\n",
              "    }\n",
              "\n",
              "    .dataframe tbody tr th {\n",
              "        vertical-align: top;\n",
              "    }\n",
              "\n",
              "    .dataframe thead th {\n",
              "        text-align: right;\n",
              "    }\n",
              "</style>\n",
              "<table border=\"1\" class=\"dataframe\">\n",
              "  <thead>\n",
              "    <tr style=\"text-align: right;\">\n",
              "      <th></th>\n",
              "      <th>PRECIP</th>\n",
              "      <th>EVAP</th>\n",
              "      <th>TMAX</th>\n",
              "      <th>TMIN</th>\n",
              "    </tr>\n",
              "  </thead>\n",
              "  <tbody>\n",
              "    <tr>\n",
              "      <th>count</th>\n",
              "      <td>19155.000000</td>\n",
              "      <td>4123.000000</td>\n",
              "      <td>19062.000000</td>\n",
              "      <td>19067.000000</td>\n",
              "    </tr>\n",
              "    <tr>\n",
              "      <th>mean</th>\n",
              "      <td>0.149267</td>\n",
              "      <td>6.665802</td>\n",
              "      <td>31.474184</td>\n",
              "      <td>14.308528</td>\n",
              "    </tr>\n",
              "    <tr>\n",
              "      <th>std</th>\n",
              "      <td>1.568891</td>\n",
              "      <td>3.596044</td>\n",
              "      <td>8.842591</td>\n",
              "      <td>8.139908</td>\n",
              "    </tr>\n",
              "    <tr>\n",
              "      <th>min</th>\n",
              "      <td>0.000000</td>\n",
              "      <td>0.100000</td>\n",
              "      <td>6.000000</td>\n",
              "      <td>-6.500000</td>\n",
              "    </tr>\n",
              "    <tr>\n",
              "      <th>25%</th>\n",
              "      <td>0.000000</td>\n",
              "      <td>3.600000</td>\n",
              "      <td>24.000000</td>\n",
              "      <td>7.600000</td>\n",
              "    </tr>\n",
              "    <tr>\n",
              "      <th>50%</th>\n",
              "      <td>0.000000</td>\n",
              "      <td>6.000000</td>\n",
              "      <td>31.650000</td>\n",
              "      <td>13.000000</td>\n",
              "    </tr>\n",
              "    <tr>\n",
              "      <th>75%</th>\n",
              "      <td>0.000000</td>\n",
              "      <td>9.600000</td>\n",
              "      <td>39.000000</td>\n",
              "      <td>21.000000</td>\n",
              "    </tr>\n",
              "    <tr>\n",
              "      <th>max</th>\n",
              "      <td>80.000000</td>\n",
              "      <td>16.400000</td>\n",
              "      <td>58.000000</td>\n",
              "      <td>37.000000</td>\n",
              "    </tr>\n",
              "  </tbody>\n",
              "</table>\n",
              "</div>"
            ],
            "text/plain": [
              "             PRECIP         EVAP          TMAX          TMIN\n",
              "count  19155.000000  4123.000000  19062.000000  19067.000000\n",
              "mean       0.149267     6.665802     31.474184     14.308528\n",
              "std        1.568891     3.596044      8.842591      8.139908\n",
              "min        0.000000     0.100000      6.000000     -6.500000\n",
              "25%        0.000000     3.600000     24.000000      7.600000\n",
              "50%        0.000000     6.000000     31.650000     13.000000\n",
              "75%        0.000000     9.600000     39.000000     21.000000\n",
              "max       80.000000    16.400000     58.000000     37.000000"
            ]
          },
          "metadata": {
            "tags": []
          },
          "execution_count": 29
        }
      ]
    },
    {
      "cell_type": "code",
      "metadata": {
        "id": "fq7qexd0z6gc"
      },
      "source": [
        "#Hacemos una copia del DataFrame del paso anterior, en dado caso que se reequiera recuperar el nuevo DataFrame\r\n",
        "df_new=df_work1.copy()"
      ],
      "execution_count": 31,
      "outputs": []
    },
    {
      "cell_type": "code",
      "metadata": {
        "colab": {
          "base_uri": "https://localhost:8080/",
          "height": 419
        },
        "id": "3Ff5N45u7wXW",
        "outputId": "ed3672de-c898-4399-ca49-88c6da097718"
      },
      "source": [
        "#Convertimos el objeto FECHA a formato de fecha que comprende Python.\r\n",
        "df['FECHA'] = pd.to_datetime(df['FECHA'])\r\n",
        "df"
      ],
      "execution_count": 37,
      "outputs": [
        {
          "output_type": "execute_result",
          "data": {
            "text/html": [
              "<div>\n",
              "<style scoped>\n",
              "    .dataframe tbody tr th:only-of-type {\n",
              "        vertical-align: middle;\n",
              "    }\n",
              "\n",
              "    .dataframe tbody tr th {\n",
              "        vertical-align: top;\n",
              "    }\n",
              "\n",
              "    .dataframe thead th {\n",
              "        text-align: right;\n",
              "    }\n",
              "</style>\n",
              "<table border=\"1\" class=\"dataframe\">\n",
              "  <thead>\n",
              "    <tr style=\"text-align: right;\">\n",
              "      <th></th>\n",
              "      <th>FECHA</th>\n",
              "      <th>PRECIP</th>\n",
              "      <th>EVAP</th>\n",
              "      <th>TMAX</th>\n",
              "      <th>TMIN</th>\n",
              "    </tr>\n",
              "  </thead>\n",
              "  <tbody>\n",
              "    <tr>\n",
              "      <th>0</th>\n",
              "      <td>1924-05-08</td>\n",
              "      <td>0.0</td>\n",
              "      <td>NaN</td>\n",
              "      <td>42.0</td>\n",
              "      <td>29.0</td>\n",
              "    </tr>\n",
              "    <tr>\n",
              "      <th>1</th>\n",
              "      <td>1924-06-08</td>\n",
              "      <td>0.0</td>\n",
              "      <td>NaN</td>\n",
              "      <td>42.3</td>\n",
              "      <td>24.8</td>\n",
              "    </tr>\n",
              "    <tr>\n",
              "      <th>2</th>\n",
              "      <td>1924-07-08</td>\n",
              "      <td>0.0</td>\n",
              "      <td>NaN</td>\n",
              "      <td>42.0</td>\n",
              "      <td>25.5</td>\n",
              "    </tr>\n",
              "    <tr>\n",
              "      <th>3</th>\n",
              "      <td>1924-08-08</td>\n",
              "      <td>0.0</td>\n",
              "      <td>NaN</td>\n",
              "      <td>38.3</td>\n",
              "      <td>26.5</td>\n",
              "    </tr>\n",
              "    <tr>\n",
              "      <th>4</th>\n",
              "      <td>1924-09-08</td>\n",
              "      <td>0.0</td>\n",
              "      <td>NaN</td>\n",
              "      <td>42.5</td>\n",
              "      <td>26.4</td>\n",
              "    </tr>\n",
              "    <tr>\n",
              "      <th>...</th>\n",
              "      <td>...</td>\n",
              "      <td>...</td>\n",
              "      <td>...</td>\n",
              "      <td>...</td>\n",
              "      <td>...</td>\n",
              "    </tr>\n",
              "    <tr>\n",
              "      <th>19164</th>\n",
              "      <td>1987-12-27</td>\n",
              "      <td>0.0</td>\n",
              "      <td>NaN</td>\n",
              "      <td>14.0</td>\n",
              "      <td>-2.5</td>\n",
              "    </tr>\n",
              "    <tr>\n",
              "      <th>19165</th>\n",
              "      <td>1987-12-28</td>\n",
              "      <td>0.0</td>\n",
              "      <td>NaN</td>\n",
              "      <td>16.0</td>\n",
              "      <td>1.0</td>\n",
              "    </tr>\n",
              "    <tr>\n",
              "      <th>19166</th>\n",
              "      <td>1987-12-29</td>\n",
              "      <td>0.0</td>\n",
              "      <td>NaN</td>\n",
              "      <td>17.5</td>\n",
              "      <td>-1.0</td>\n",
              "    </tr>\n",
              "    <tr>\n",
              "      <th>19167</th>\n",
              "      <td>1987-12-30</td>\n",
              "      <td>0.0</td>\n",
              "      <td>NaN</td>\n",
              "      <td>15.5</td>\n",
              "      <td>5.0</td>\n",
              "    </tr>\n",
              "    <tr>\n",
              "      <th>19168</th>\n",
              "      <td>1987-12-31</td>\n",
              "      <td>0.0</td>\n",
              "      <td>NaN</td>\n",
              "      <td>17.0</td>\n",
              "      <td>2.0</td>\n",
              "    </tr>\n",
              "  </tbody>\n",
              "</table>\n",
              "<p>19169 rows × 5 columns</p>\n",
              "</div>"
            ],
            "text/plain": [
              "           FECHA  PRECIP  EVAP  TMAX  TMIN\n",
              "0     1924-05-08     0.0   NaN  42.0  29.0\n",
              "1     1924-06-08     0.0   NaN  42.3  24.8\n",
              "2     1924-07-08     0.0   NaN  42.0  25.5\n",
              "3     1924-08-08     0.0   NaN  38.3  26.5\n",
              "4     1924-09-08     0.0   NaN  42.5  26.4\n",
              "...          ...     ...   ...   ...   ...\n",
              "19164 1987-12-27     0.0   NaN  14.0  -2.5\n",
              "19165 1987-12-28     0.0   NaN  16.0   1.0\n",
              "19166 1987-12-29     0.0   NaN  17.5  -1.0\n",
              "19167 1987-12-30     0.0   NaN  15.5   5.0\n",
              "19168 1987-12-31     0.0   NaN  17.0   2.0\n",
              "\n",
              "[19169 rows x 5 columns]"
            ]
          },
          "metadata": {
            "tags": []
          },
          "execution_count": 37
        }
      ]
    },
    {
      "cell_type": "code",
      "metadata": {
        "colab": {
          "base_uri": "https://localhost:8080/"
        },
        "id": "Y_PB27VG8fMo",
        "outputId": "8ff177a6-c860-4a81-80dd-1d4c01f15f26"
      },
      "source": [
        "#Verificamos que todas las variables son del tipo deseado\r\n",
        "df_new.dtypes"
      ],
      "execution_count": 38,
      "outputs": [
        {
          "output_type": "execute_result",
          "data": {
            "text/plain": [
              "FECHA     datetime64[ns]\n",
              "PRECIP           float64\n",
              "EVAP             float64\n",
              "TMAX             float64\n",
              "TMIN             float64\n",
              "dtype: object"
            ]
          },
          "metadata": {
            "tags": []
          },
          "execution_count": 38
        }
      ]
    },
    {
      "cell_type": "code",
      "metadata": {
        "colab": {
          "base_uri": "https://localhost:8080/"
        },
        "id": "cWz3J5Zl-bsJ",
        "outputId": "80370854-5db7-42fd-bf86-6a57fd51c028"
      },
      "source": [
        "#Creamos dos columnas nuevas adicionales\r\n",
        "df['FECHA'].dt.year\r\n",
        "df['FECHA'].dt.month"
      ],
      "execution_count": 54,
      "outputs": [
        {
          "output_type": "execute_result",
          "data": {
            "text/plain": [
              "0         5\n",
              "1         6\n",
              "2         7\n",
              "3         8\n",
              "4         9\n",
              "         ..\n",
              "19164    12\n",
              "19165    12\n",
              "19166    12\n",
              "19167    12\n",
              "19168    12\n",
              "Name: FECHA, Length: 19169, dtype: int64"
            ]
          },
          "metadata": {
            "tags": []
          },
          "execution_count": 54
        }
      ]
    },
    {
      "cell_type": "code",
      "metadata": {
        "colab": {
          "base_uri": "https://localhost:8080/"
        },
        "id": "aJoXKdJbBoot",
        "outputId": "82fd6655-a137-41b6-816c-7ace9cd92c85"
      },
      "source": [
        "#Verificamos que el DataFrame tenga la forma deseada\r\n",
        "print(df.head(10))\r\n",
        "print(df.tail(10))"
      ],
      "execution_count": 49,
      "outputs": [
        {
          "output_type": "stream",
          "text": [
            "       FECHA  PRECIP  EVAP  TMAX  TMIN\n",
            "0 1924-05-08     0.0   NaN  42.0  29.0\n",
            "1 1924-06-08     0.0   NaN  42.3  24.8\n",
            "2 1924-07-08     0.0   NaN  42.0  25.5\n",
            "3 1924-08-08     0.0   NaN  38.3  26.5\n",
            "4 1924-09-08     0.0   NaN  42.5  26.4\n",
            "5 1924-10-08     0.0   NaN  41.5  28.0\n",
            "6 1924-11-08     0.0   NaN  43.8  27.2\n",
            "7 1924-12-08     0.0   NaN  45.0  24.4\n",
            "8 1924-08-13     0.0   NaN  45.3  25.2\n",
            "9 1924-08-14     0.0   NaN  44.2  24.3\n",
            "           FECHA  PRECIP  EVAP  TMAX  TMIN\n",
            "19159 1987-12-22     0.0   NaN  21.0   3.0\n",
            "19160 1987-12-23     0.0   NaN  16.5   7.0\n",
            "19161 1987-12-24     0.0   NaN  12.5   5.0\n",
            "19162 1987-12-25     0.0   NaN   9.5  -1.0\n",
            "19163 1987-12-26     0.0   NaN   9.5  -2.5\n",
            "19164 1987-12-27     0.0   NaN  14.0  -2.5\n",
            "19165 1987-12-28     0.0   NaN  16.0   1.0\n",
            "19166 1987-12-29     0.0   NaN  17.5  -1.0\n",
            "19167 1987-12-30     0.0   NaN  15.5   5.0\n",
            "19168 1987-12-31     0.0   NaN  17.0   2.0\n"
          ],
          "name": "stdout"
        }
      ]
    },
    {
      "cell_type": "code",
      "metadata": {
        "colab": {
          "base_uri": "https://localhost:8080/"
        },
        "id": "p68-I9vfB7ed",
        "outputId": "4bc7f7ce-3aab-45c2-b297-49c747da0fc3"
      },
      "source": [
        "#Verificamos que todas las variables son del tipo adecuado\r\n",
        "df.dtypes"
      ],
      "execution_count": 55,
      "outputs": [
        {
          "output_type": "execute_result",
          "data": {
            "text/plain": [
              "FECHA     datetime64[ns]\n",
              "PRECIP           float64\n",
              "EVAP             float64\n",
              "TMAX             float64\n",
              "TMIN             float64\n",
              "dtype: object"
            ]
          },
          "metadata": {
            "tags": []
          },
          "execution_count": 55
        }
      ]
    },
    {
      "cell_type": "code",
      "metadata": {
        "id": "E8sBB-vtDo8s"
      },
      "source": [
        ""
      ],
      "execution_count": null,
      "outputs": []
    }
  ]
}