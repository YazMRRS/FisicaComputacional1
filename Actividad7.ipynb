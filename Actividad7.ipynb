{
  "nbformat": 4,
  "nbformat_minor": 0,
  "metadata": {
    "colab": {
      "name": "Actividad7.ipynb",
      "provenance": [],
      "collapsed_sections": [],
      "authorship_tag": "ABX9TyOaTwVdST7LSeP+lLyVrlVE",
      "include_colab_link": true
    },
    "kernelspec": {
      "name": "python3",
      "display_name": "Python 3"
    }
  },
  "cells": [
    {
      "cell_type": "markdown",
      "metadata": {
        "id": "view-in-github",
        "colab_type": "text"
      },
      "source": [
        "<a href=\"https://colab.research.google.com/github/YazMRRS/FisicaComputacional1/blob/master/Actividad7.ipynb\" target=\"_parent\"><img src=\"https://colab.research.google.com/assets/colab-badge.svg\" alt=\"Open In Colab\"/></a>"
      ]
    },
    {
      "cell_type": "code",
      "metadata": {
        "id": "ni5DgLUTFfiS"
      },
      "source": [
        "#Importamos las bibliotecas a utilizar\n",
        "import numpy as np \n",
        "import scipy.linalg as la\n",
        "from numpy.linalg import matrix_power as mpow\n",
        "import matplotlib.pyplot as plt\n",
        "\n",
        "%matplotlib inline "
      ],
      "execution_count": null,
      "outputs": []
    },
    {
      "cell_type": "markdown",
      "metadata": {
        "id": "q8SmW8pRIxqe"
      },
      "source": [
        "**Ejercicio 1.** Defina las siguientes matrices. \n",
        "\n",
        "\\\n",
        "\n",
        "$$\\begin{equation*}\n",
        " A\n",
        " =\n",
        "  \\begin{bmatrix}\n",
        "   1 & 3 \\\\\n",
        "   -1 & 7\n",
        "   \\end{bmatrix}\n",
        "\\end{equation*}$$\n",
        "\n",
        "\\\n",
        "\n",
        "$$\\begin{equation*}\n",
        " B =\n",
        "  \\begin{bmatrix}\n",
        "   5 & 2 \\\\\n",
        "   1 & 2\n",
        "   \\end{bmatrix}\n",
        "\\end{equation*}$$\n",
        "\n",
        "\\\n",
        "\n",
        "y la matriz identidad\n",
        "\n",
        "\\\n",
        "\n",
        "$$\\begin{equation*}\n",
        " I = \n",
        "   \\begin{bmatrix}\n",
        "   1 & 0 \\\\\n",
        "   0 & 1\n",
        "   \\end{bmatrix}\n",
        "\\end{equation*}$$\n",
        "\n",
        "\\\n",
        "\n",
        "Calcule el resultado de $2I+3A+A@B$.\n"
      ]
    },
    {
      "cell_type": "code",
      "metadata": {
        "id": "CD0pdA7qIgNi"
      },
      "source": [
        "#Definimos las matrices A y B\n",
        "A = np.array([[1,3],[-1,7]])\n",
        "B = np.array([[5,2],[1,2]])\n",
        "\n",
        "#Definimos la matriz identidad\n",
        "I = np.array([[1,0],[0,1]])"
      ],
      "execution_count": null,
      "outputs": []
    },
    {
      "cell_type": "code",
      "metadata": {
        "colab": {
          "base_uri": "https://localhost:8080/"
        },
        "id": "3-Z38HSuKXAv",
        "outputId": "207ef88e-a9dc-4a7a-cf91-6610452fb617"
      },
      "source": [
        "#Resolvemos la ecuación 2I+3A+A@B\n",
        "print((2*I)+(3*A)+(A@B))"
      ],
      "execution_count": null,
      "outputs": [
        {
          "output_type": "stream",
          "text": [
            "[[13 17]\n",
            " [-1 35]]\n"
          ],
          "name": "stdout"
        }
      ]
    },
    {
      "cell_type": "markdown",
      "metadata": {
        "id": "nCx_zxziNeYe"
      },
      "source": [
        "**Ejercicio 2.** Los polinomios característicos y el Teorema de Cayley-Hamilton.\n",
        "\n",
        "El polinomio característico de una matriz M esta dado en general por la ecuación\n",
        "\n",
        "$$\\det(M - \\lambda I) = 0$$\n",
        "\n",
        "Para una matriz cuadrada M (2x2), el polinomio característico se puede escribir como\n",
        "\n",
        "$$P_2 (\\lambda) = \\det{(M)} - \\mathrm{tr}(M) \\, \\lambda + \\lambda^2 $$\n",
        "\n",
        "y para una matriz cuadrada M (3x3), el polinomio característico resulta ser\n",
        "\n",
        "$$P_3(\\lambda)=\\frac{1}{6}[\\mathrm{tr}^3(M)+2\\,\\mathrm{tr}(M^3)-3\\,\\mathrm{tr}(M)\\mathrm{tr}(M^2)]-\\frac{1}{2}[\\mathrm{tr}^2(M)-\\mathrm{tr}(M^2)]\\lambda+\\mathrm{tr}(M)\\lambda^2-\\lambda^3$$\n",
        "\n",
        "El Teorema de Cayley-Hamilton nos dice que una matriz cuadrada M (2x2), satisface el polinomio característico\n",
        "\n",
        "$$P_2(M) = \\det(M) - \\mathrm{tr}(M) M + M^2 $$\n",
        "\n",
        "y en general cualquier matriz cuadrada M (nxn), satisface $P_n(M)$.\n",
        "\n",
        "Demuestre esto para cualquier matriz M (2x2), ($\\det(M) \\neq 0$)."
      ]
    },
    {
      "cell_type": "code",
      "metadata": {
        "id": "3ZLVtqqVLdVw",
        "colab": {
          "base_uri": "https://localhost:8080/"
        },
        "outputId": "b9ddc99b-4a01-4e65-a7aa-740338493d9c"
      },
      "source": [
        "a = float(input())\n",
        "b = float(input())\n",
        "c = float(input())\n",
        "d = float(input())\n",
        "\n",
        "M = np.array([[a,b],[c,d]])\n",
        "if (a*d-b*c) != 0:\n",
        "  p_M = I*la.det(M)-np.trace(M)*M+mpow(M,2)\n",
        "  print(\"El polimonio caracteristico es igual a cero.\")\n",
        "  print(\"El polinomio caracteristico calculado mediante el teorema es igual a:\")\n",
        "  print(p_M)\n",
        "  print(\"Al ser la matriz cero, el teorema se demuestra\")\n",
        "else:\n",
        "  print(\"El determinante es igual a cero y el teorema no aplica\")"
      ],
      "execution_count": null,
      "outputs": [
        {
          "output_type": "stream",
          "text": [
            "2\n",
            "5\n",
            "4\n",
            "8\n",
            "El polimonio caracteristico es igual a cero.\n",
            "El polinomio caracteristico calculado mediante el teorema es igual a:\n",
            "[[0. 0.]\n",
            " [0. 0.]]\n",
            "Al ser la matriz cero, el teorema se demuestra\n"
          ],
          "name": "stdout"
        }
      ]
    },
    {
      "cell_type": "markdown",
      "metadata": {
        "id": "Ao_muw8boCdL"
      },
      "source": [
        "**Ejercicio 3.** Resuelva el sistema de ecuaciones\n",
        "\n",
        "$$x-3y+z=1$$\n",
        "\n",
        "$$3x-4y+z=5$$\n",
        "\n",
        "$$2y-z=0$$\n",
        "\n",
        "de dos formas, utilizando el método de eliminación gaussiana y utilizando la función scipy.linalg.solve()\n",
        "\n",
        "\n",
        "\n",
        "\n",
        "\n",
        "\n"
      ]
    },
    {
      "cell_type": "code",
      "metadata": {
        "colab": {
          "base_uri": "https://localhost:8080/"
        },
        "id": "PIeyt8JElbjF",
        "outputId": "483c1e08-a1e5-4ec3-abd2-fd7ca2fd6682"
      },
      "source": [
        "#Método de eliminación gaussiana\n",
        "#Definimos la matriz en función de las ecuaciones y empezamos a resolver\n",
        "def scale_row(A,k,i):\n",
        "    \"Multiplicar el renglón i por k en la matriz A.\"\n",
        "    n = A.shape[0]\n",
        "    E = np.eye(n)\n",
        "    E[i,i] = k\n",
        "    return E @ A\n",
        "    \n",
        "X=np.array([[1,-3,1,1],[3,-4,1,5],[0,2,-1,0]])\n",
        "X1= scale_row(X, -3, 0)\n",
        "print(X1)"
      ],
      "execution_count": null,
      "outputs": [
        {
          "output_type": "stream",
          "text": [
            "[[-3.  9. -3. -3.]\n",
            " [ 3. -4.  1.  5.]\n",
            " [ 0.  2. -1.  0.]]\n"
          ],
          "name": "stdout"
        }
      ]
    },
    {
      "cell_type": "code",
      "metadata": {
        "colab": {
          "base_uri": "https://localhost:8080/"
        },
        "id": "R9jXJSFKpoa1",
        "outputId": "b805bf80-599e-4c2e-ad58-a41ce6978cdf"
      },
      "source": [
        "def add_row(A,k,i,j):\n",
        "    \"Sumar k veces el renglón j al renglón i en la matriz A.\"\n",
        "    n = A.shape[0]\n",
        "    E = np.eye(n)\n",
        "    if i == j:\n",
        "        E[i,i] = k + 1\n",
        "    else:\n",
        "        E[i,j] = k\n",
        "    return E @ A\n",
        "    \n",
        "X2=add_row(X1,1,1,0)\n",
        "print(X2)"
      ],
      "execution_count": null,
      "outputs": [
        {
          "output_type": "stream",
          "text": [
            "[[-3.  9. -3. -3.]\n",
            " [ 0.  5. -2.  2.]\n",
            " [ 0.  2. -1.  0.]]\n"
          ],
          "name": "stdout"
        }
      ]
    },
    {
      "cell_type": "code",
      "metadata": {
        "colab": {
          "base_uri": "https://localhost:8080/"
        },
        "id": "5RmxLUtppxH6",
        "outputId": "54b5d23f-dd6d-439d-db89-4ce2c63c9acd"
      },
      "source": [
        "X3=np.array([[1,-3,1,1],[0,5,-2,2],[0,2,-1,0]])\n",
        "print(X3)"
      ],
      "execution_count": null,
      "outputs": [
        {
          "output_type": "stream",
          "text": [
            "[[ 1 -3  1  1]\n",
            " [ 0  5 -2  2]\n",
            " [ 0  2 -1  0]]\n"
          ],
          "name": "stdout"
        }
      ]
    },
    {
      "cell_type": "code",
      "metadata": {
        "colab": {
          "base_uri": "https://localhost:8080/"
        },
        "id": "Z5RQzcbVq9WT",
        "outputId": "fce751c0-eb0f-4f5b-d94c-3514d9a21ec6"
      },
      "source": [
        "X4=scale_row(X3,-2/5,1)\n",
        "print(X4)"
      ],
      "execution_count": null,
      "outputs": [
        {
          "output_type": "stream",
          "text": [
            "[[ 1.  -3.   1.   1. ]\n",
            " [ 0.  -2.   0.8 -0.8]\n",
            " [ 0.   2.  -1.   0. ]]\n"
          ],
          "name": "stdout"
        }
      ]
    },
    {
      "cell_type": "code",
      "metadata": {
        "colab": {
          "base_uri": "https://localhost:8080/"
        },
        "id": "Owq766wmrG6p",
        "outputId": "716150ef-1919-4027-d8e2-39f129012a0b"
      },
      "source": [
        "X5=add_row(X4,1,2,1)\n",
        "print(X5)"
      ],
      "execution_count": null,
      "outputs": [
        {
          "output_type": "stream",
          "text": [
            "[[ 1.  -3.   1.   1. ]\n",
            " [ 0.  -2.   0.8 -0.8]\n",
            " [ 0.   0.  -0.2 -0.8]]\n"
          ],
          "name": "stdout"
        }
      ]
    },
    {
      "cell_type": "code",
      "metadata": {
        "colab": {
          "base_uri": "https://localhost:8080/"
        },
        "id": "tEDzd9OarQPV",
        "outputId": "21370783-8d15-4e18-9a55-51ac0def2073"
      },
      "source": [
        "X6=np.array([[1,-3,1,1],[0,5,-2,2],[0,0,-0.2,-0.8]])\n",
        "print(X6)"
      ],
      "execution_count": null,
      "outputs": [
        {
          "output_type": "stream",
          "text": [
            "[[ 1.  -3.   1.   1. ]\n",
            " [ 0.   5.  -2.   2. ]\n",
            " [ 0.   0.  -0.2 -0.8]]\n"
          ],
          "name": "stdout"
        }
      ]
    },
    {
      "cell_type": "markdown",
      "metadata": {
        "id": "BV3THjDTrldB"
      },
      "source": [
        "Tenemos que\n",
        "\n",
        "$$x=3$$\n",
        "\n",
        "$$y=2$$\n",
        "\n",
        "$$z=4$$"
      ]
    },
    {
      "cell_type": "code",
      "metadata": {
        "colab": {
          "base_uri": "https://localhost:8080/"
        },
        "id": "VBDjIzznrfep",
        "outputId": "64247a27-d678-4751-d267-02bcc9fe9f9b"
      },
      "source": [
        "#Método por la función scipy.linalg.solve()\n",
        "x1=np.array([[1,-3,1],[3,-4,1],[0,2,-1]])\n",
        "m=np.array([[1],[5],[0]])\n",
        "solución=la.solve(x1,m)\n",
        "print(solución)"
      ],
      "execution_count": null,
      "outputs": [
        {
          "output_type": "stream",
          "text": [
            "[[3.]\n",
            " [2.]\n",
            " [4.]]\n"
          ],
          "name": "stdout"
        }
      ]
    },
    {
      "cell_type": "markdown",
      "metadata": {
        "id": "PUrWkdmQu4l1"
      },
      "source": [
        "**Ejercicio 4.** Dadas las siguientes matrices $B_1, B_2$ y $B_3$\n",
        "\n",
        "\n",
        "$$\\begin{equation*}\n",
        " B_1\n",
        " =\n",
        "  \\begin{bmatrix}\n",
        "   2 & 0 & 0 \\\\\n",
        "   0 & 3 & 4 \\\\\n",
        "   0 & 4 & 9\n",
        "   \\end{bmatrix}\n",
        "\\end{equation*}$$\n",
        "\n",
        "\\\n",
        "\n",
        "$$\\begin{equation*}\n",
        " B_2\n",
        " =\n",
        "  \\begin{bmatrix}\n",
        "   0 & 1 & 0 \\\\\n",
        "   0 & 0 & 1 \\\\\n",
        "   1 & 0 & 0\n",
        "   \\end{bmatrix}\n",
        "\\end{equation*}$$\n",
        "\n",
        "\\\n",
        "\n",
        "$$\\begin{equation*}\n",
        " B_3\n",
        " =\n",
        "  \\begin{bmatrix}\n",
        "   2 & 0 & 0 & 0\\\\\n",
        "   1 & 2 & 0 & 0 \\\\\n",
        "   0 & 1 & 3 & 0 \\\\\n",
        "   0 & 0 & 1 & 3\n",
        "   \\end{bmatrix}\n",
        "\\end{equation*}$$\n",
        "\n",
        "\n",
        "Encuenta los eigenvalores y eigenvectores de cada matriz utilizando la función de scipy,linalg.eig(), y contrasta los resultados en cada caso con los que se desarrollan en los ejemplos de la wikipedia. "
      ]
    },
    {
      "cell_type": "code",
      "metadata": {
        "colab": {
          "base_uri": "https://localhost:8080/"
        },
        "id": "6pQxkdFNtAjz",
        "outputId": "5c3fde09-6eff-4453-841a-b0b2f76f65d0"
      },
      "source": [
        "#Definimos las matrices \n",
        "B1=np.array([[2,0,0],[0,3,4],[0,4,9]])\n",
        "B2=np.array([[0,1,0],[0,0,1],[1,0,0]])\n",
        "B3=np.array([[2,0,0,0],[1,2,0,0],[0,1,3,0],[0,0,1,3]])\n",
        "\n",
        "print(B1)\n",
        "print(\"\\n\",B2)\n",
        "print(\"\\n\",B3)"
      ],
      "execution_count": null,
      "outputs": [
        {
          "output_type": "stream",
          "text": [
            "[[2 0 0]\n",
            " [0 3 4]\n",
            " [0 4 9]]\n",
            "\n",
            " [[0 1 0]\n",
            " [0 0 1]\n",
            " [1 0 0]]\n",
            "\n",
            " [[2 0 0 0]\n",
            " [1 2 0 0]\n",
            " [0 1 3 0]\n",
            " [0 0 1 3]]\n"
          ],
          "name": "stdout"
        }
      ]
    },
    {
      "cell_type": "code",
      "metadata": {
        "colab": {
          "base_uri": "https://localhost:8080/"
        },
        "id": "a-SwyD3kxJK5",
        "outputId": "ce3402af-bb43-4542-d264-bfa191a4ad17"
      },
      "source": [
        "#Aplicamos la biblioteca scipy.linalg.eig()\n",
        "#Matriz B1\n",
        "eigevalores, eigevectores = la.eig(B1)\n",
        "print('Eigevalores:', eigevalores)\n",
        "print('Eigevectores:', eigevectores)"
      ],
      "execution_count": null,
      "outputs": [
        {
          "output_type": "stream",
          "text": [
            "Eigevalores: [11.+0.j  1.+0.j  2.+0.j]\n",
            "Eigevectores: [[ 0.          0.          1.        ]\n",
            " [ 0.4472136   0.89442719  0.        ]\n",
            " [ 0.89442719 -0.4472136   0.        ]]\n"
          ],
          "name": "stdout"
        }
      ]
    },
    {
      "cell_type": "code",
      "metadata": {
        "colab": {
          "base_uri": "https://localhost:8080/"
        },
        "id": "A5kUEjMKxsVp",
        "outputId": "94f0876c-401c-44e9-9e99-ba1973313500"
      },
      "source": [
        "#Matriz B2\n",
        "eigevalores, eigevectores = la.eig(B2)\n",
        "print('Eigevalores:', eigevalores)\n",
        "print('Eigevectores:', eigevectores)"
      ],
      "execution_count": null,
      "outputs": [
        {
          "output_type": "stream",
          "text": [
            "Eigevalores: [-0.5+0.8660254j -0.5-0.8660254j  1. +0.j       ]\n",
            "Eigevectores: [[ 0.57735027+0.j   0.57735027-0.j  -0.57735027+0.j ]\n",
            " [-0.28867513+0.5j -0.28867513-0.5j -0.57735027+0.j ]\n",
            " [-0.28867513-0.5j -0.28867513+0.5j -0.57735027+0.j ]]\n"
          ],
          "name": "stdout"
        }
      ]
    },
    {
      "cell_type": "code",
      "metadata": {
        "colab": {
          "base_uri": "https://localhost:8080/"
        },
        "id": "I7cAE7SqyEya",
        "outputId": "c9c74d94-cb46-4abc-cfd7-19a70626085f"
      },
      "source": [
        "#Matriz B3\n",
        "eigevalores, eigevectores = la.eig(B3)\n",
        "print('Eigevalores:', eigevalores)\n",
        "print('Eigevectores:', eigevectores)"
      ],
      "execution_count": null,
      "outputs": [
        {
          "output_type": "stream",
          "text": [
            "Eigevalores: [3.+0.j 3.+0.j 2.+0.j 2.+0.j]\n",
            "Eigevectores: [[ 0.00000000e+00  0.00000000e+00  0.00000000e+00  2.56395025e-16]\n",
            " [ 0.00000000e+00  0.00000000e+00  5.77350269e-01 -5.77350269e-01]\n",
            " [ 0.00000000e+00  6.66133815e-16 -5.77350269e-01  5.77350269e-01]\n",
            " [ 1.00000000e+00 -1.00000000e+00  5.77350269e-01 -5.77350269e-01]]\n"
          ],
          "name": "stdout"
        }
      ]
    },
    {
      "cell_type": "markdown",
      "metadata": {
        "id": "qpAKggdLz5Mv"
      },
      "source": [
        "**Ejercicio 5.** Se tienen los siguientes 8 puntos:\n",
        "\n",
        "\\begin{eqnarray*} \n",
        "(x&,&y) \\\\\n",
        "(0.0 &,& 0.0), \\\\ \n",
        "(0.5 &,& 0.47942), \\\\ \n",
        "(1.0 &,& 0.84147), \\\\\n",
        "(1.5 &,& 0.99749), \\\\\n",
        "(2.0 &,& 0.90930), \\\\\n",
        "(2.5 &,& 0.59847), \\\\\n",
        "(3.0 &,& 0.14112), \\\\\n",
        "(3.5 &,& -0.35078) \\\\\n",
        "\\end{eqnarray*}\n",
        "\n",
        "Encuentre un polinomio interpolante $p(x)$ que pase por los 8 puntos. \n",
        "\n",
        "Sobreponga la función $y=\\sin(x)$ y contrástela con el polinomio $p(x)$."
      ]
    },
    {
      "cell_type": "code",
      "metadata": {
        "colab": {
          "base_uri": "https://localhost:8080/",
          "height": 435
        },
        "id": "dCrL9U11ygKl",
        "outputId": "12e2a5fa-9e17-40b5-e488-d7a5a7af4560"
      },
      "source": [
        "# Tenemos un total de 8 puntos donde realizaremos una interpolacion con un polinomio de grado 7 donde\n",
        "x = np.array([0,0.5,1,1.5,2,2.5,3,3.5])\n",
        "y = np.array([0,0.47942,0.84147,0.99749,0.90930,0.59847,0.14112,-0.35078]).reshape(8,1)\n",
        "\n",
        "# Nuestra matriz para la variable x será\n",
        "X = np.column_stack([x**k for k in range(0,8)])\n",
        "\n",
        "## La solución para la ecuación Xa=y usando spicy.linalg==la\n",
        "e = la.solve(X,y)\n",
        "print(e)\n",
        "# Graficamos los resultados del polinomio interpolante de coeficientes a[0], a[1], y a[2]\n",
        "# Sobreponemos en la gráfica los puntos conocidos en azul con puntos ('b.')\n",
        "xs = np.linspace(0,4,10)\n",
        "ys_temp = 0\n",
        "for n in range(0,8):\n",
        "  ys = ys_temp + e[n]*xs**n\n",
        "  ys_temp = ys\n",
        "plt.plot(xs,ys,x,y,'b.', x, np.sin(x))\n",
        "plt.title('Polinomio interpolante', size=18)\n",
        "plt.xlabel('x')\n",
        "plt.ylabel('y')\n",
        "plt.show()"
      ],
      "execution_count": null,
      "outputs": [
        {
          "output_type": "stream",
          "text": [
            "[[ 0.00000000e+00]\n",
            " [ 1.00067181e+00]\n",
            " [-3.70788889e-03]\n",
            " [-1.58867889e-01]\n",
            " [-8.30222222e-03]\n",
            " [ 1.31964444e-02]\n",
            " [-1.54488889e-03]\n",
            " [ 2.46349206e-05]]\n"
          ],
          "name": "stdout"
        },
        {
          "output_type": "display_data",
          "data": {
            "image/png": "[encoded data removed]",
            "text/plain": [
              "<Figure size 432x288 with 1 Axes>"
            ]
          },
          "metadata": {
            "tags": [],
            "needs_background": "light"
          }
        }
      ]
    },
    {
      "cell_type": "markdown",
      "metadata": {
        "id": "bYB69Knl1WC1"
      },
      "source": [
        "**Ejercicio 6.** \n",
        "Regrese a su modelo de análisis de series de tiempo. Haga una descomposición de su serie de tiempo de las temperaturas (Tmax y Tmin), y realice una regresión lineal sobre la serie de Tendencia de Temp $(T = a_0 + a_1 t)$. Encuentre si la pendiente es positiva o negativa de la tendencia (signo de $a_1$), es decir si las Temperaturas (Tmax, Tmin) están subiendo o bajando en el periodo analizado."
      ]
    },
    {
      "cell_type": "code",
      "metadata": {
        "colab": {
          "base_uri": "https://localhost:8080/"
        },
        "id": "RNcSq6I23py5",
        "outputId": "9bc53a2f-6fce-44db-e9ee-9fcb3290373c"
      },
      "source": [
        "#Importamos bibliotecas\n",
        "import numpy as np\n",
        "import scipy.linalg as la\n",
        "from numpy.linalg import matrix_power as mpow\n",
        "import pandas as pd\n",
        "import random\n",
        "import matplotlib.pyplot as plt\n",
        "import seaborn as sns\n",
        "import statsmodels.api as sm"
      ],
      "execution_count": null,
      "outputs": [
        {
          "output_type": "stream",
          "text": [
            "/usr/local/lib/python3.7/dist-packages/statsmodels/tools/_testing.py:19: FutureWarning: pandas.util.testing is deprecated. Use the functions in the public API at pandas.testing instead.\n",
            "  import pandas.util.testing as tm\n"
          ],
          "name": "stderr"
        }
      ]
    },
    {
      "cell_type": "code",
      "metadata": {
        "colab": {
          "base_uri": "https://localhost:8080/"
        },
        "id": "_IiNiCjQ03ZD",
        "outputId": "564db59b-2f1d-4a58-ac4e-94cb28affc35"
      },
      "source": [
        "# Tomar datos del url en formato \"raw\"\n",
        "url = 'https://raw.githubusercontent.com/YazMRRS/FisicaComputacional1/master/Actividad1/26086Diario.txt' \n",
        "my_cols = ['Fecha','Precip','Evap','Tmax','Tmin',]\n",
        "df_trabajo = pd.read_csv(url, names=my_cols, encoding='cp1251', sep='\\s+', header=None, skiprows=19, skipfooter=1, engine='python') \n",
        "\n",
        "# Hacemos una copia de trabajo y preservamos el dataframe original\n",
        "df_trabajo0 = df_trabajo.copy()\n",
        "\n",
        "# Cambiamos la palabra nulo por un vacío y verificamos\n",
        "str_Nulo = 'Nulo'\n",
        "df_trabajo1 = df_trabajo0.replace(to_replace=str_Nulo, value='', regex=True)\n",
        "\n",
        "# Convertimos los valores de las variables ambientales a números flotantes y verificamos \n",
        "cols_list = ['Precip', 'Evap', 'Tmax', 'Tmin']\n",
        "for cols in cols_list:\n",
        "  df_trabajo1[cols] = pd.to_numeric(df_trabajo0[cols], errors='coerce')\n",
        "\n",
        "# Definimos un nuevo dataframe por si hay que regresarse\n",
        "df_trabajo2 = df_trabajo1.copy()\n",
        "\n",
        "# Se convierte el objeto Fecha a variable fecha que python reconoce\n",
        "df_trabajo2['Fecha'] = pd.to_datetime(df_trabajo2['Fecha'], dayfirst=True).copy()\n",
        "\n",
        "# Añadimos dos columnas adicionales: df['Año'], df['Mes']\n",
        "# Usaremos la función .dt.year y .dt.month para extraer el Año y Mes de la Fecha\n",
        "df_trabajo2['Año'] = df_trabajo2['Fecha'].dt.year\n",
        "df_trabajo2['Mes'] = df_trabajo2['Fecha'].dt.month\n",
        "\n",
        "# Hacemos una copia del trabajo y es con el que trabajaremos para el análisis de datos\n",
        "df_datos = df_trabajo2.copy()\n",
        "\n",
        "# Eliminamos la columna de Mes(numérico) y agregamos Mes(caractéres)\n",
        "df_datos.drop('Mes', axis=1, inplace=True)\n",
        "df_datos['Mes'] = df_datos['Fecha'].dt.strftime('%b')\n",
        "\n",
        "# Nueva copia del DataFrame para Series de Tiempo\n",
        "df_datos_ts = df_datos.copy()\n",
        "\n",
        "# Reemplazamos el índice por la variable 'Fecha' \n",
        "df_datos_ts = df_datos.set_index('Fecha')\n",
        "\n",
        "# Seleccionaremos un conjunto de años de 30 años\n",
        "df_63 = df_datos_ts[(df_datos_ts['Año'] >= 1924) & (df_datos_ts['Año'] < 1987)]\n",
        "\n",
        "ts_test_TMX = df_63.Tmax\n",
        "decomposition_TMX = sm.tsa.seasonal_decompose(ts_test_TMX.interpolate(), model='additive', freq=365)\n",
        "\n",
        "# La función regresa 3 componentes: tendencia, estacionalidad y un residuo\n",
        "\n",
        "trend_TMX = decomposition_TMX.trend\n",
        "trend_TMX = trend_TMX[~np.isnan(trend_TMX)]\n",
        "print(trend_TMX)"
      ],
      "execution_count": null,
      "outputs": [
        {
          "output_type": "stream",
          "text": [
            "Fecha\n",
            "1926-10-23    30.358630\n",
            "1926-10-24    30.352603\n",
            "1926-10-25    30.342192\n",
            "1926-10-26    30.338082\n",
            "1926-10-27    30.344110\n",
            "                ...    \n",
            "1985-02-26    32.573973\n",
            "1985-02-27    32.580822\n",
            "1985-02-28    32.579452\n",
            "1985-03-01    32.572603\n",
            "1985-03-02    32.568493\n",
            "Name: Tmax, Length: 18621, dtype: float64\n"
          ],
          "name": "stdout"
        }
      ]
    },
    {
      "cell_type": "code",
      "metadata": {
        "colab": {
          "base_uri": "https://localhost:8080/",
          "height": 295
        },
        "id": "wD6YY1LL3b9X",
        "outputId": "860af6d8-bfc1-46a0-d1d8-6388fcff2657"
      },
      "source": [
        "N = 18621\n",
        "x = np.arange(0,N)\n",
        "y = trend_TMX\n",
        "plt.scatter(x,y);\n",
        "plt.grid()\n",
        "plt.title('Serie de Tendencia Tmax 1924-1986 San Luis Rio Colorado')\n",
        "plt.xlabel('x')\n",
        "plt.ylabel('y')\n",
        "plt.show()"
      ],
      "execution_count": null,
      "outputs": [
        {
          "output_type": "display_data",
          "data": {
            "image/png": "[encoded data removed]",
            "text/plain": [
              "<Figure size 432x288 with 1 Axes>"
            ]
          },
          "metadata": {
            "tags": [],
            "needs_background": "light"
          }
        }
      ]
    },
    {
      "cell_type": "code",
      "metadata": {
        "colab": {
          "base_uri": "https://localhost:8080/"
        },
        "id": "qXvPwWSV4Eok",
        "outputId": "e95dab22-b98e-4c05-e3b9-cd615bdd457a"
      },
      "source": [
        "# Construimos la matriz de Vandermonde\n",
        "X = np.column_stack([np.ones(N),x])\n",
        "print('Shape:', X.shape)\n",
        "# Imprimimos los primeros 5 renglones para verificar\n",
        "print(X[:5,:])"
      ],
      "execution_count": null,
      "outputs": [
        {
          "output_type": "stream",
          "text": [
            "Shape: (18621, 2)\n",
            "[[1. 0.]\n",
            " [1. 1.]\n",
            " [1. 2.]\n",
            " [1. 3.]\n",
            " [1. 4.]]\n"
          ],
          "name": "stdout"
        }
      ]
    },
    {
      "cell_type": "code",
      "metadata": {
        "colab": {
          "base_uri": "https://localhost:8080/"
        },
        "id": "ElU_NHlS40-u",
        "outputId": "474dc18c-9b3c-4019-c703-a42d5de2a219"
      },
      "source": [
        "# Usamos la función scipy.linalg.solve() para resolver la ecuación X.T@X@a = X.T@y respecto a 'a'\n",
        "a = la.solve(X.T @ X, X.T @ y)\n",
        "print(a)"
      ],
      "execution_count": null,
      "outputs": [
        {
          "output_type": "stream",
          "text": [
            "[3.13681521e+01 7.15287225e-06]\n"
          ],
          "name": "stdout"
        }
      ]
    },
    {
      "cell_type": "code",
      "metadata": {
        "colab": {
          "base_uri": "https://localhost:8080/",
          "height": 295
        },
        "id": "nlaajReY5BkU",
        "outputId": "87ed2a01-642e-4c89-9d2d-94f7a0432d73"
      },
      "source": [
        "# Graficamos el ajuste con esos 2 coeficientes de la regresión y = a_0 + a_1 x \n",
        "xs = np.linspace(0,N,20)\n",
        "ys = a[0] + a[1]*xs\n",
        "plt.plot(xs,ys,'r',linewidth=4)\n",
        "plt.scatter(x,y);\n",
        "plt.grid()\n",
        "plt.title('Ajuste mediante Regresión Lineal de los datos')\n",
        "plt.xlabel('x')\n",
        "plt.ylabel('y')\n",
        "plt.show()"
      ],
      "execution_count": null,
      "outputs": [
        {
          "output_type": "display_data",
          "data": {
            "image/png": "[encoded data removed]",
            "text/plain": [
              "<Figure size 432x288 with 1 Axes>"
            ]
          },
          "metadata": {
            "tags": [],
            "needs_background": "light"
          }
        }
      ]
    },
    {
      "cell_type": "code",
      "metadata": {
        "colab": {
          "base_uri": "https://localhost:8080/"
        },
        "id": "vCbOh8ot5TdL",
        "outputId": "277d0144-00f3-406e-b500-4f2cd3590089"
      },
      "source": [
        "# Método de descomposición usando la biblioteca statsmodels.tsa\n",
        "ts_test_TMN = df_63.Tmin\n",
        "decomposition_TMN = sm.tsa.seasonal_decompose(ts_test_TMN.interpolate(), model='additive', freq=365)\n",
        "\n",
        "# La función regresa 3 componentes: tendencia, estacionalidad y un residuo\n",
        "\n",
        "trend_TMN = decomposition_TMN.trend\n",
        "trend_TMN = trend_TMN[~np.isnan(trend_TMN)]\n",
        "print(trend_TMN)"
      ],
      "execution_count": null,
      "outputs": [
        {
          "output_type": "stream",
          "text": [
            "Fecha\n",
            "1926-10-23    12.690822\n",
            "1926-10-24    12.649726\n",
            "1926-10-25    12.609178\n",
            "1926-10-26    12.585890\n",
            "1926-10-27    12.559863\n",
            "                ...    \n",
            "1985-02-26    14.937808\n",
            "1985-02-27    14.940548\n",
            "1985-02-28    14.941918\n",
            "1985-03-01    14.944658\n",
            "1985-03-02    14.946027\n",
            "Name: Tmin, Length: 18621, dtype: float64\n"
          ],
          "name": "stdout"
        }
      ]
    },
    {
      "cell_type": "code",
      "metadata": {
        "colab": {
          "base_uri": "https://localhost:8080/",
          "height": 295
        },
        "id": "sniG_1915sfy",
        "outputId": "4e351512-36d8-427d-d499-734a45124c2b"
      },
      "source": [
        "N = 18621\n",
        "x = np.arange(0,N)\n",
        "y = trend_TMN\n",
        "plt.scatter(x,y);\n",
        "plt.grid()\n",
        "plt.title('Serie de Tendencia Tmin 1924-1986 San Luis Río Colorado')\n",
        "plt.xlabel('x')\n",
        "plt.ylabel('y')\n",
        "plt.show()"
      ],
      "execution_count": null,
      "outputs": [
        {
          "output_type": "display_data",
          "data": {
            "image/png": "[encoded data removed]",
            "text/plain": [
              "<Figure size 432x288 with 1 Axes>"
            ]
          },
          "metadata": {
            "tags": [],
            "needs_background": "light"
          }
        }
      ]
    },
    {
      "cell_type": "code",
      "metadata": {
        "colab": {
          "base_uri": "https://localhost:8080/"
        },
        "id": "NvwBKlrw6Oml",
        "outputId": "4c888cb1-29bc-4c2a-f96b-0b6664bb43cb"
      },
      "source": [
        "# Usamos la función scipy.linalg.solve() para resolver la ecuación X.T@X@a = X.T@y respecto a 'a'\n",
        "a = la.solve(X.T @ X, X.T @ y)\n",
        "print(a)"
      ],
      "execution_count": null,
      "outputs": [
        {
          "output_type": "stream",
          "text": [
            "[1.34444058e+01 9.20372997e-05]\n"
          ],
          "name": "stdout"
        }
      ]
    },
    {
      "cell_type": "code",
      "metadata": {
        "colab": {
          "base_uri": "https://localhost:8080/",
          "height": 295
        },
        "id": "iiv0PuG66cm5",
        "outputId": "92bf72f8-5672-4445-8ea4-7673a07fcc85"
      },
      "source": [
        "xs = np.linspace(0,N,20)\n",
        "ys = a[0] + a[1]*xs\n",
        "plt.plot(xs,ys,'r',linewidth=4)\n",
        "plt.scatter(x,y);\n",
        "plt.grid()\n",
        "plt.title('Ajuste mediante Regresión Lineal de los datos')\n",
        "plt.xlabel('x')\n",
        "plt.ylabel('y')\n",
        "plt.show()"
      ],
      "execution_count": null,
      "outputs": [
        {
          "output_type": "display_data",
          "data": {
            "image/png": "[encoded data removed]",
            "text/plain": [
              "<Figure size 432x288 with 1 Axes>"
            ]
          },
          "metadata": {
            "tags": [],
            "needs_background": "light"
          }
        }
      ]
    }
  ]
}