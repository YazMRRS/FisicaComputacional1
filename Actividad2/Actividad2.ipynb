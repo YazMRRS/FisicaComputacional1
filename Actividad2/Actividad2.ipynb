{
  "nbformat": 4,
  "nbformat_minor": 0,
  "metadata": {
    "colab": {
      "name": "Actividad2.ipynb",
      "provenance": [],
      "authorship_tag": "ABX9TyOZR43dQrRaS9Sfgpoc3nul",
      "include_colab_link": true
    },
    "kernelspec": {
      "name": "python3",
      "display_name": "Python 3"
    }
  },
  "cells": [
    {
      "cell_type": "markdown",
      "metadata": {
        "id": "view-in-github",
        "colab_type": "text"
      },
      "source": [
        "<a href=\"https://colab.research.google.com/github/YazMRRS/FisicaComputacional1/blob/master/Actividad2.ipynb\" target=\"_parent\"><img src=\"https://colab.research.google.com/assets/colab-badge.svg\" alt=\"Open In Colab\"/></a>"
      ]
    },
    {
      "cell_type": "code",
      "metadata": {
        "id": "N2vfwRSf7Qal"
      },
      "source": [
        "import numpy as np\r\n"
      ],
      "execution_count": null,
      "outputs": []
    },
    {
      "cell_type": "code",
      "metadata": {
        "colab": {
          "base_uri": "https://localhost:8080/"
        },
        "id": "X6y_VLoJIqpG",
        "outputId": "fe74fab7-dd1c-4257-be98-5939a4aad750"
      },
      "source": [
        "#Ejercicio 1. Se proporciona el siguiente programa para calcular el área de un rectángulo: \r\n",
        "#Usando este ejemplo, modifícalo para calcular:\r\n",
        "#area de: un círculo y  una elipse.\r\n",
        "#volumen de: una esfera y el de un cilindro circular.\r\n",
        "\r\n",
        "# Se utiliza el símbolo # para hacer comentarios.\r\n",
        "# Se define una función de 2 variables para calcular el área.  \r\n",
        "def area(x, y):\r\n",
        "    return x*y\r\n",
        "\r\n",
        "print(\"Proporciona el largo y altura del rectángulo: \", end=\"\")\r\n",
        "l = float(input())\r\n",
        "w = float(input())\r\n",
        "a = area(l, w)\r\n",
        "# Imprime el valor del área en formato libre.\r\n",
        "print(\"\\nArea = \", a)\r\n",
        "# Imprime el valor del área con 2 decimales. \r\n",
        "print(\"\\nArea = {:.2f}\".format(a))"
      ],
      "execution_count": null,
      "outputs": [
        {
          "output_type": "stream",
          "text": [
            "Proporciona el largo y altura del rectángulo: 7\n",
            "4\n",
            "\n",
            "Area =  28.0\n",
            "\n",
            "Area = 28.00\n"
          ],
          "name": "stdout"
        }
      ]
    },
    {
      "cell_type": "code",
      "metadata": {
        "colab": {
          "base_uri": "https://localhost:8080/"
        },
        "id": "YBQwifuN80jH",
        "outputId": "73f042ab-eb18-4e98-94d2-9df3f02688fb"
      },
      "source": [
        "#Área de un circulo\r\n",
        "#Se define una función de 2 variables para calcular el área. \r\n",
        "def area(x,y):\r\n",
        "  return x*y\r\n",
        "\r\n",
        "print(\"Proporciona el radio del circulo\",end=\"\")\r\n",
        "np.pi\r\n",
        "r=float(input())\r\n",
        "a=area(np.pi,r**2)\r\n",
        "\r\n",
        "#Imprime el valor del área en formato libre.\r\n",
        "print(\"\\nArea = \", a)\r\n",
        "\r\n",
        "#Imprime el valor del área con 2 decimales.\r\n",
        "print(\"\\nArea = {:.2f}\".format(a))\r\n"
      ],
      "execution_count": null,
      "outputs": [
        {
          "output_type": "stream",
          "text": [
            "Proporciona el radio del circulo5\n",
            "\n",
            "Area =  78.53981633974483\n",
            "\n",
            "Area = 78.54\n"
          ],
          "name": "stdout"
        }
      ]
    },
    {
      "cell_type": "code",
      "metadata": {
        "colab": {
          "base_uri": "https://localhost:8080/"
        },
        "id": "XJfEhGWyGIS-",
        "outputId": "9587d4e1-acd4-4b1a-b853-6e8b1253cbbe"
      },
      "source": [
        "#Área de una elipse\r\n",
        "#Se define una función de 2 variables para calcular el área. \r\n",
        "def area(x,y):\r\n",
        "  return x*y\r\n",
        "\r\n",
        "print(\"Proporciona a y b de la elipse\",end=\"\")\r\n",
        "np.pi\r\n",
        "a=float(input())\r\n",
        "b=float(input())\r\n",
        "p=area(a,b*np.pi)\r\n",
        "\r\n",
        "#Imprime el valor del área en formato libre.\r\n",
        "print(\"\\nArea = \", p)\r\n",
        "\r\n",
        "#Imprime el valor del área con 2 decimales.\r\n",
        "print(\"\\nArea = {:.2f}\".format(p))\r\n"
      ],
      "execution_count": null,
      "outputs": [
        {
          "output_type": "stream",
          "text": [
            "Proporciona a y b de la elipse6\n",
            "9\n",
            "\n",
            "Area =  169.64600329384882\n",
            "\n",
            "Area = 169.65\n"
          ],
          "name": "stdout"
        }
      ]
    },
    {
      "cell_type": "code",
      "metadata": {
        "colab": {
          "base_uri": "https://localhost:8080/"
        },
        "id": "C2rkgGZeHGPB",
        "outputId": "71bdac1e-c6e1-4d92-c9d9-e78778810b19"
      },
      "source": [
        "#Volumen de una esfera\r\n",
        "#Se define una función de 2 variables para calcular el área. \r\n",
        "def   Volumen(x,y):\r\n",
        "  return x*y\r\n",
        "\r\n",
        "print(\"Proporciona el radio de la esfera\",end=\"\")\r\n",
        "np.pi\r\n",
        "r=float(input())\r\n",
        "v=Volumen((4/3)*np.pi,r**3)\r\n",
        "\r\n",
        "#Imprime el valor del volumen en formato libre.\r\n",
        "print(\"\\nVolumen = \", v)\r\n",
        "\r\n",
        "#Imprime el valor del volumen con 2 decimales.\r\n",
        "print(\"\\nVolumen = {:.2f}\".format(v))\r\n"
      ],
      "execution_count": null,
      "outputs": [
        {
          "output_type": "stream",
          "text": [
            "Proporciona el radio de la esfera3\n",
            "\n",
            "Volumen =  113.09733552923254\n",
            "\n",
            "Volumen = 113.10\n"
          ],
          "name": "stdout"
        }
      ]
    },
    {
      "cell_type": "code",
      "metadata": {
        "colab": {
          "base_uri": "https://localhost:8080/"
        },
        "id": "VEgbFtj0Hlsr",
        "outputId": "1f29862d-627e-469f-adbb-985f8e5b265b"
      },
      "source": [
        "#Volumen de un cilindro circular\r\n",
        "#Se define una función de 2 variables para calcular el área. \r\n",
        "def Volumen(x,y):\r\n",
        "  return x*y\r\n",
        "\r\n",
        "print(\"Proporciona el radio y la altura del cilindro circular\",end=\"\")\r\n",
        "np.pi\r\n",
        "r=float(input())\r\n",
        "h=float(input())\r\n",
        "v=Volumen(np.pi*(r**2),h)\r\n",
        "\r\n",
        "#Imprime el valor del volumen en formato libre.\r\n",
        "print(\"\\nVolumen = \", v)\r\n",
        "\r\n",
        "#Imprime el valor del volumen con 2 decimales.\r\n",
        "print(\"\\nVolumen = {:.2f}\".format(v))\r\n"
      ],
      "execution_count": null,
      "outputs": [
        {
          "output_type": "stream",
          "text": [
            "Proporciona el radio y la altura del cilindro circular2\n",
            "6\n",
            "\n",
            "Volumen =  75.39822368615503\n",
            "\n",
            "Volumen = 75.40\n"
          ],
          "name": "stdout"
        }
      ]
    },
    {
      "cell_type": "code",
      "metadata": {
        "colab": {
          "base_uri": "https://localhost:8080/"
        },
        "id": "gN3pLBXfKbDS",
        "outputId": "652207c5-8753-4d10-d083-8a4161995620"
      },
      "source": [
        "#Ejercicio2. Desarrollar un programa en Python que calcule las raíces de una ecuación cuadrática.\r\n",
        "import numpy as np\r\n",
        "\r\n",
        "A=int(input(\"Ingrese el coeficiente de la variable cuadratica \\n\"))\r\n",
        "B=int(input(\"Ingrese el coeficiente de la variable lineal \\n\"))\r\n",
        "C=int(input(\"Ingrese el término independiente \\n\"))\r\n",
        "\r\n",
        "if ((B**2)-4*A*C)<0:\r\n",
        "  print(\"La solución de la ecuación es con numeros complejos\")\r\n",
        "\r\n",
        "else:\r\n",
        "    #Parte positiva de la ecuación \r\n",
        "    x1 = (-B+(np.sqrt(B**2-(4*A*C))))/(2*A)\r\n",
        "    #Parte negativa de la ecuación\r\n",
        "    x2 = (-B-(np.sqrt(B**2-(4*A*C))))/(2*A)\r\n",
        "    \r\n",
        "    print(\"Las soluciones de la ecuación son:\")\r\n",
        "    print(x1)\r\n",
        "    print(x2)\r\n"
      ],
      "execution_count": null,
      "outputs": [
        {
          "output_type": "stream",
          "text": [
            "Ingrese el coeficiente de la variable cuadratica \n",
            "-2\n",
            "Ingrese el coeficiente de la variable lineal \n",
            "4\n",
            "Ingrese el término independiente \n",
            "1\n",
            "Las soluciones de la ecuación son:\n",
            "-0.22474487139158894\n",
            "2.224744871391589\n"
          ],
          "name": "stdout"
        }
      ]
    },
    {
      "cell_type": "code",
      "metadata": {
        "id": "geSx1R4WFFeM",
        "colab": {
          "base_uri": "https://localhost:8080/"
        },
        "outputId": "36cb7948-8e69-40e5-91d4-36aff7e5c03c"
      },
      "source": [
        "import numpy as np\r\n",
        "\r\n",
        "#Ejercicio3. Implementar el método Babilonio, para calcular la raíz cuadrada de un número S, cuando la sucesión converja con un error menor a 0.01. Compare con el valor obtenido por el método Babilonio con el valor de la función np.sqrt(S).\r\n",
        "\r\n",
        "#Se define una función de 2 variables para calcular la raíz de un número S\r\n",
        "print(\"Ingresar número (S) al que se le desea calcular la raíz cuadrada:\", end=\"\")\r\n",
        "S = float(input())\r\n",
        "\r\n",
        "print(\"Ingresa el número (x0) que es el aproximado a la raíz cuadrada de S:\", end=\"\")\r\n",
        "x0 = float(input())\r\n",
        "\r\n",
        "for i in range(1000): #comienza en 0 e incrementa a 1\r\n",
        " if abs(x0-np.sqrt(S))<0.01:\r\n",
        "  print(\"La aproximación a la raíz cuadrada del número\", S, \"es igual a:\", x0)\r\n",
        "  break \r\n",
        "\r\n",
        " else:\r\n",
        "    xi=(x0+S/x0)/2\r\n",
        "    x0=xi\r\n",
        "\r\n"
      ],
      "execution_count": null,
      "outputs": [
        {
          "output_type": "stream",
          "text": [
            "Ingresar número (S) al que se le desea calcular la raíz cuadrada:37\n",
            "Ingresa el número (x0) que es el aproximado a la raíz cuadrada de S:6\n",
            "La aproximación a la raíz cuadrada del número 37.0 es igual a: 6.083333333333334\n"
          ],
          "name": "stdout"
        }
      ]
    },
    {
      "cell_type": "code",
      "metadata": {
        "id": "U3uc8F7sFPHp",
        "colab": {
          "base_uri": "https://localhost:8080/",
          "height": 329
        },
        "outputId": "0431f6f2-934f-4214-f2b1-d90064f8726d"
      },
      "source": [
        "#Ejercicio4. Reproduce la figura que aparece inmediatamente abajo en el artículo de Wikipedia sobre series de Taylor, que muestra la aproximación de la función ln(1+x) alrededor de x=0.\r\n",
        "import matplotlib.pyplot as plt\r\n",
        "import sympy as sy \r\n",
        "import numpy as np \r\n",
        "from sympy.functions import ln\r\n",
        "from sympy import pretty_print as pp, latex\r\n",
        "\r\n",
        "x=sy.Symbol('x')\r\n",
        "y=ln(1+x)\r\n",
        "\r\n",
        "print(\"Ingrese el número de términos que desea obtener de la serie de Taylor\")\r\n",
        "n=float(input())\r\n",
        "def taylor(p,i,n):\r\n",
        "  j=1\r\n",
        "  p=0\r\n",
        "  while j<=n:\r\n",
        "    p=p+((-1)**(j+1))*((x**j)/j)\r\n",
        "    j=j+1\r\n",
        "  return p\r\n",
        "\r\n",
        "x=np.linspace(-0.99999999999999,1.5,200)\r\n",
        "y=np.log(1+x)\r\n",
        "\r\n",
        "plt.subplot(111)\r\n",
        "plt.xlabel(\"x\")\r\n",
        "plt.ylabel(\"y\")\r\n",
        "plt.title(\"Aproximación de la función ln(1+x)\")\r\n",
        "\r\n",
        "plt.plot(x,y, label=\"ln(1+x)\")\r\n",
        "\r\n",
        "plt.plot(x,taylor(y,0,4), label=\"Serie de Taylor grado 4\")\r\n",
        "plt.plot(x,taylor(y,0,7), label=\"Serie de Taylor grado 7\")\r\n",
        "plt.plot(x,taylor(y,0,11), label=\"Serie de Taylor grado 11\")\r\n",
        "plt.plot(x,taylor(y,0,16), label=\"Serie de Taylor grado 16\")\r\n",
        "\r\n",
        "plt.grid(True)\r\n",
        "\r\n",
        "plt.ylim(-4,4)\r\n",
        "plt.show()\r\n"
      ],
      "execution_count": 4,
      "outputs": [
        {
          "output_type": "stream",
          "text": [
            "Ingrese el número de términos que desea obtener de la serie de Taylor\n",
            "200\n"
          ],
          "name": "stdout"
        },
        {
          "output_type": "display_data",
          "data": {
            "image/png": "[encoded data removed]",
            "text/plain": [
              "<Figure size 432x288 with 1 Axes>"
            ]
          },
          "metadata": {
            "tags": [],
            "needs_background": "light"
          }
        }
      ]
    },
    {
      "cell_type": "code",
      "metadata": {
        "id": "Vn52Fh2ErHAC"
      },
      "source": [
        ""
      ],
      "execution_count": null,
      "outputs": []
    }
  ]
}